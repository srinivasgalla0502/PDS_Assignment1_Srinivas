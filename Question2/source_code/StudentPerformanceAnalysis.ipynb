{
  "nbformat": 4,
  "nbformat_minor": 0,
  "metadata": {
    "colab": {
      "provenance": []
    },
    "kernelspec": {
      "name": "python3",
      "display_name": "Python 3"
    },
    "language_info": {
      "name": "python"
    }
  },
  "cells": [
    {
      "cell_type": "code",
      "execution_count": 1,
      "metadata": {
        "colab": {
          "base_uri": "https://localhost:8080/"
        },
        "id": "QsTZMgO2_Ir-",
        "outputId": "dc1fce2c-2583-4a87-8f00-9d2bce2d001b"
      },
      "outputs": [
        {
          "output_type": "stream",
          "name": "stdout",
          "text": [
            "cleaned_data  raw_data\tresults  sample_data  source_code\n"
          ]
        }
      ],
      "source": [
        "import os\n",
        "\n",
        "# Create folders\n",
        "folders = [\"raw_data\", \"cleaned_data\", \"source_code\", \"results\"]\n",
        "for folder in folders:\n",
        "    os.makedirs(folder, exist_ok=True)\n",
        "\n",
        "# Verify folder creation\n",
        "!ls"
      ]
    },
    {
      "cell_type": "code",
      "source": [
        "import pandas as pd\n",
        "\n",
        "# Load raw data\n",
        "raw_data_path = \"raw_data/StudentsPerformance.csv\"\n",
        "df = pd.read_csv(raw_data_path)\n",
        "\n",
        "# Check for missing values\n",
        "print(\"Missing values:\\n\", df.isnull().sum())\n",
        "\n",
        "# Check for duplicates\n",
        "print(\"Duplicates:\", df.duplicated().sum())\n",
        "\n",
        "# Save cleaned data\n",
        "cleaned_data_path = \"cleaned_data/cleaned_students_performance.csv\"\n",
        "df.to_csv(cleaned_data_path, index=False)\n",
        "\n",
        "print(\"Cleaned data saved to:\", cleaned_data_path)"
      ],
      "metadata": {
        "colab": {
          "base_uri": "https://localhost:8080/"
        },
        "id": "IexcLAlvgXlM",
        "outputId": "33b17602-f358-4401-dfb8-385ffe49ec45"
      },
      "execution_count": 2,
      "outputs": [
        {
          "output_type": "stream",
          "name": "stdout",
          "text": [
            "Missing values:\n",
            " gender                         0\n",
            "race/ethnicity                 0\n",
            "parental level of education    0\n",
            "lunch                          0\n",
            "test preparation course        0\n",
            "math score                     0\n",
            "reading score                  0\n",
            "writing score                  0\n",
            "dtype: int64\n",
            "Duplicates: 0\n",
            "Cleaned data saved to: cleaned_data/cleaned_students_performance.csv\n"
          ]
        }
      ]
    },
    {
      "cell_type": "code",
      "source": [
        "import pandas as pd\n",
        "import matplotlib.pyplot as plt\n",
        "import seaborn as sns\n",
        "\n",
        "# Load cleaned data\n",
        "cleaned_data_path = \"cleaned_data/cleaned_students_performance.csv\"\n",
        "df = pd.read_csv(cleaned_data_path)\n",
        "\n",
        "# Visualization 1: Distribution of Math Scores\n",
        "plt.figure(figsize=(8, 6))\n",
        "sns.histplot(df['math score'], bins=20, kde=True, color='blue')\n",
        "plt.title('Distribution of Math Scores')\n",
        "plt.xlabel('Math Score')\n",
        "plt.ylabel('Frequency')\n",
        "plt.savefig('results/visualization1.png')\n",
        "plt.close()\n",
        "\n",
        "# Visualization 2: Average Scores by Gender\n",
        "avg_scores_by_gender = df.groupby('gender')[['math score', 'reading score', 'writing score']].mean()\n",
        "avg_scores_by_gender.plot(kind='bar', figsize=(10, 6))\n",
        "plt.title('Average Scores by Gender')\n",
        "plt.xlabel('Gender')\n",
        "plt.ylabel('Average Score')\n",
        "plt.savefig('results/visualization2.png')\n",
        "plt.close()\n",
        "\n",
        "# Visualization 3: Correlation Heatmap\n",
        "plt.figure(figsize=(8, 6))\n",
        "sns.heatmap(df[['math score', 'reading score', 'writing score']].corr(), annot=True, cmap='coolwarm')\n",
        "plt.title('Correlation Heatmap of Scores')\n",
        "plt.savefig('results/visualization3.png')\n",
        "plt.close()\n",
        "\n",
        "# Visualization 4: Boxplot of Math Scores by Parental Education\n",
        "plt.figure(figsize=(10, 6))\n",
        "sns.boxplot(x='parental level of education', y='math score', data=df)\n",
        "plt.title('Math Scores by Parental Education Level')\n",
        "plt.xticks(rotation=45)\n",
        "plt.savefig('results/visualization4.png')\n",
        "plt.close()\n",
        "\n",
        "# Visualization 5: Scatter Plot of Reading vs. Writing Scores\n",
        "plt.figure(figsize=(8, 6))\n",
        "sns.scatterplot(x='reading score', y='writing score', hue='gender', data=df)\n",
        "plt.title('Reading vs. Writing Scores by Gender')\n",
        "plt.savefig('results/visualization5.png')\n",
        "plt.close()\n",
        "\n",
        "print(\"Visualizations saved to the results folder.\")"
      ],
      "metadata": {
        "colab": {
          "base_uri": "https://localhost:8080/"
        },
        "id": "v-EfH-tdglkP",
        "outputId": "f17c615b-89ea-4078-ecac-ae98212138ad"
      },
      "execution_count": 3,
      "outputs": [
        {
          "output_type": "stream",
          "name": "stdout",
          "text": [
            "Visualizations saved to the results folder.\n"
          ]
        }
      ]
    }
  ]
}